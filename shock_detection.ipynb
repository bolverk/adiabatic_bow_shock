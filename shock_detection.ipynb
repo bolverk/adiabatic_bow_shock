{
 "metadata": {
  "name": "",
  "signature": "sha256:da0ac015afccaac53541b380502a8b6f16e1c1678567eb85a36ac3d60069927c"
 },
 "nbformat": 3,
 "nbformat_minor": 0,
 "worksheets": [
  {
   "cells": [
    {
     "cell_type": "code",
     "collapsed": false,
     "input": [
      "import h5py\n",
      "import numpy\n",
      "import pylab\n",
      "from scipy.interpolate import griddata\n",
      "import datetime\n",
      "import math\n",
      "\n",
      "def calc_parabolic_max(x_list, y_list):\n",
      "    \n",
      "    import numpy\n",
      "    \n",
      "    idx = numpy.argmax(y_list)\n",
      "    param = numpy.polyfit(x_list[idx-1:idx+2],\n",
      "                          y_list[idx-1:idx+2],\n",
      "                          2)\n",
      "    return -0.5*param[1]/param[0]\n",
      "\n",
      "def cached_eval(func, fname):\n",
      "    \n",
      "    import os\n",
      "    import pickle\n",
      "    \n",
      "    if os.path.isfile(fname):\n",
      "        return pickle.load(open(fname,'rb'))\n",
      "    else:\n",
      "        res = func()\n",
      "        pickle.dump(res,open(fname,'wb'))\n",
      "        return res\n",
      "\n",
      "with h5py.File('snapshot_1000.h5','r+') as f:\n",
      "    g = 5./3.\n",
      "    x_min = numpy.min(f['x_coordinate'])\n",
      "    x_max = numpy.max(f['x_coordinate'])\n",
      "    y_min = numpy.min(f['y_coordinate'])\n",
      "    y_max = numpy.max(f['y_coordinate'])\n",
      "    r_front = []\n",
      "    t_front = []\n",
      "    lower_right_angle = math.atan2(y_min,x_max)\n",
      "    upper_right_angle = math.atan2(y_max,x_max)\n",
      "    lower_left_angle = math.atan2(y_min, x_min)\n",
      "    q_list = numpy.linspace(lower_left_angle+0.1*(lower_right_angle-lower_left_angle),\n",
      "                            upper_right_angle,\n",
      "                            num=50)\n",
      "    for q in q_list:\n",
      "        print q\n",
      "        r_min = 0.011\n",
      "        dr = 0.001\n",
      "        if q < lower_right_angle:\n",
      "            r_max = abs(y_min/math.sin(q))\n",
      "        else:\n",
      "            r_max = abs(x_max/math.cos(q))\n",
      "        r_list = numpy.arange(r_min, r_max, dr)\n",
      "        x_list = r_list*math.cos(q)\n",
      "        y_list = r_list*math.sin(q)\n",
      "        d_list = griddata([[x,y] for x,y in zip(f['x_coordinate'], f['y_coordinate'])],\n",
      "                          f['density'],\n",
      "                          (x_list, y_list),method='cubic')\n",
      "        t_list = griddata([[x,y] for x,y in zip(f['x_coordinate'], f['y_coordinate'])],\n",
      "                          f['temperature'],\n",
      "                          (x_list, y_list),method='cubic')\n",
      "        r_front.append(calc_parabolic_max(r_list, d_list))\n",
      "        t_front.append(numpy.interp(r_front[-1],r_list,t_list))"
     ],
     "language": "python",
     "metadata": {},
     "outputs": [
      {
       "output_type": "stream",
       "stream": "stdout",
       "text": [
        "-1.44597732749\n",
        "-1.38993053557"
       ]
      },
      {
       "output_type": "stream",
       "stream": "stdout",
       "text": [
        "\n",
        "-1.33388374366"
       ]
      },
      {
       "output_type": "stream",
       "stream": "stdout",
       "text": [
        "\n",
        "-1.27783695174"
       ]
      },
      {
       "output_type": "stream",
       "stream": "stdout",
       "text": [
        "\n",
        "-1.22179015983"
       ]
      },
      {
       "output_type": "stream",
       "stream": "stdout",
       "text": [
        "\n",
        "-1.16574336791"
       ]
      },
      {
       "output_type": "stream",
       "stream": "stdout",
       "text": [
        "\n",
        "-1.109696576"
       ]
      },
      {
       "output_type": "stream",
       "stream": "stdout",
       "text": [
        "\n",
        "-1.05364978408"
       ]
      },
      {
       "output_type": "stream",
       "stream": "stdout",
       "text": [
        "\n",
        "-0.997602992166"
       ]
      },
      {
       "output_type": "stream",
       "stream": "stdout",
       "text": [
        "\n",
        "-0.94155620025"
       ]
      },
      {
       "output_type": "stream",
       "stream": "stdout",
       "text": [
        "\n",
        "-0.885509408335"
       ]
      },
      {
       "output_type": "stream",
       "stream": "stdout",
       "text": [
        "\n",
        "-0.82946261642"
       ]
      },
      {
       "output_type": "stream",
       "stream": "stdout",
       "text": [
        "\n",
        "-0.773415824505"
       ]
      },
      {
       "output_type": "stream",
       "stream": "stdout",
       "text": [
        "\n",
        "-0.71736903259"
       ]
      },
      {
       "output_type": "stream",
       "stream": "stdout",
       "text": [
        "\n",
        "-0.661322240675"
       ]
      },
      {
       "output_type": "stream",
       "stream": "stdout",
       "text": [
        "\n",
        "-0.60527544876"
       ]
      },
      {
       "output_type": "stream",
       "stream": "stdout",
       "text": [
        "\n",
        "-0.549228656845"
       ]
      },
      {
       "output_type": "stream",
       "stream": "stdout",
       "text": [
        "\n",
        "-0.49318186493"
       ]
      },
      {
       "output_type": "stream",
       "stream": "stdout",
       "text": [
        "\n",
        "-0.437135073015"
       ]
      },
      {
       "output_type": "stream",
       "stream": "stdout",
       "text": [
        "\n",
        "-0.3810882811"
       ]
      },
      {
       "output_type": "stream",
       "stream": "stdout",
       "text": [
        "\n",
        "-0.325041489185"
       ]
      },
      {
       "output_type": "stream",
       "stream": "stdout",
       "text": [
        "\n",
        "-0.26899469727"
       ]
      },
      {
       "output_type": "stream",
       "stream": "stdout",
       "text": [
        "\n",
        "-0.212947905355"
       ]
      },
      {
       "output_type": "stream",
       "stream": "stdout",
       "text": [
        "\n",
        "-0.15690111344"
       ]
      },
      {
       "output_type": "stream",
       "stream": "stdout",
       "text": [
        "\n",
        "-0.100854321525"
       ]
      },
      {
       "output_type": "stream",
       "stream": "stdout",
       "text": [
        "\n",
        "-0.0448075296099"
       ]
      },
      {
       "output_type": "stream",
       "stream": "stdout",
       "text": [
        "\n",
        "0.0112392623052"
       ]
      },
      {
       "output_type": "stream",
       "stream": "stdout",
       "text": [
        "\n",
        "0.0672860542202"
       ]
      },
      {
       "output_type": "stream",
       "stream": "stdout",
       "text": [
        "\n",
        "0.123332846135"
       ]
      },
      {
       "output_type": "stream",
       "stream": "stdout",
       "text": [
        "\n",
        "0.17937963805"
       ]
      },
      {
       "output_type": "stream",
       "stream": "stdout",
       "text": [
        "\n",
        "0.235426429965"
       ]
      },
      {
       "output_type": "stream",
       "stream": "stdout",
       "text": [
        "\n",
        "0.29147322188"
       ]
      },
      {
       "output_type": "stream",
       "stream": "stdout",
       "text": [
        "\n",
        "0.347520013795"
       ]
      },
      {
       "output_type": "stream",
       "stream": "stdout",
       "text": [
        "\n",
        "0.40356680571"
       ]
      },
      {
       "output_type": "stream",
       "stream": "stdout",
       "text": [
        "\n",
        "0.459613597625"
       ]
      },
      {
       "output_type": "stream",
       "stream": "stdout",
       "text": [
        "\n",
        "0.515660389541"
       ]
      },
      {
       "output_type": "stream",
       "stream": "stdout",
       "text": [
        "\n",
        "0.571707181456"
       ]
      },
      {
       "output_type": "stream",
       "stream": "stdout",
       "text": [
        "\n",
        "0.627753973371"
       ]
      },
      {
       "output_type": "stream",
       "stream": "stdout",
       "text": [
        "\n",
        "0.683800765286"
       ]
      },
      {
       "output_type": "stream",
       "stream": "stdout",
       "text": [
        "\n",
        "0.739847557201"
       ]
      },
      {
       "output_type": "stream",
       "stream": "stdout",
       "text": [
        "\n",
        "0.795894349116"
       ]
      },
      {
       "output_type": "stream",
       "stream": "stdout",
       "text": [
        "\n",
        "0.851941141031"
       ]
      },
      {
       "output_type": "stream",
       "stream": "stdout",
       "text": [
        "\n",
        "0.907987932946"
       ]
      },
      {
       "output_type": "stream",
       "stream": "stdout",
       "text": [
        "\n",
        "0.964034724861"
       ]
      },
      {
       "output_type": "stream",
       "stream": "stdout",
       "text": [
        "\n",
        "1.02008151678"
       ]
      },
      {
       "output_type": "stream",
       "stream": "stdout",
       "text": [
        "\n",
        "1.07612830869"
       ]
      },
      {
       "output_type": "stream",
       "stream": "stdout",
       "text": [
        "\n",
        "1.13217510061"
       ]
      },
      {
       "output_type": "stream",
       "stream": "stdout",
       "text": [
        "\n",
        "1.18822189252"
       ]
      },
      {
       "output_type": "stream",
       "stream": "stdout",
       "text": [
        "\n",
        "1.24426868444"
       ]
      },
      {
       "output_type": "stream",
       "stream": "stdout",
       "text": [
        "\n",
        "1.30031547635"
       ]
      },
      {
       "output_type": "stream",
       "stream": "stdout",
       "text": [
        "\n"
       ]
      }
     ],
     "prompt_number": 53
    },
    {
     "cell_type": "code",
     "collapsed": false,
     "input": [
      "pylab.plot(q_list, t_front)\n",
      "pylab.show()"
     ],
     "language": "python",
     "metadata": {},
     "outputs": [],
     "prompt_number": 54
    },
    {
     "cell_type": "code",
     "collapsed": false,
     "input": [
      "x_front = r_front*numpy.cos(q_list)\n",
      "y_front = r_front*numpy.sin(q_list)"
     ],
     "language": "python",
     "metadata": {},
     "outputs": [],
     "prompt_number": 55
    },
    {
     "cell_type": "code",
     "collapsed": false,
     "input": [
      "def calc_edge_area(p1,p2):\n",
      "    import math\n",
      "    x1 = p1[0]\n",
      "    x2 = p2[0]\n",
      "    y1 = p1[1]\n",
      "    y2 = p2[1]\n",
      "    return math.pi*abs(x1+x2)*math.sqrt((x1-x2)**2+(y1-y2)**2)"
     ],
     "language": "python",
     "metadata": {},
     "outputs": [],
     "prompt_number": 57
    },
    {
     "cell_type": "code",
     "collapsed": false,
     "input": [
      "t_final = []\n",
      "a_final = []\n",
      "for idx in range(1,len(t_front)):\n",
      "    t_final.append(0.5*(t_front[idx]+t_front[idx-1]))\n",
      "    a_final.append(calc_edge_area([x_front[idx],y_front[idx]],\n",
      "                                  [x_front[idx-1],y_front[idx-1]]))"
     ],
     "language": "python",
     "metadata": {},
     "outputs": [],
     "prompt_number": 58
    },
    {
     "cell_type": "code",
     "collapsed": false,
     "input": [
      "import pickle\n",
      "pickle.dump(t_final, open('bb_t_front.pkl','wb'))\n",
      "pickle.dump(a_final, open('bb_a_front.pkl','wb'))"
     ],
     "language": "python",
     "metadata": {},
     "outputs": [],
     "prompt_number": 59
    },
    {
     "cell_type": "code",
     "collapsed": false,
     "input": [],
     "language": "python",
     "metadata": {},
     "outputs": []
    }
   ],
   "metadata": {}
  }
 ]
}